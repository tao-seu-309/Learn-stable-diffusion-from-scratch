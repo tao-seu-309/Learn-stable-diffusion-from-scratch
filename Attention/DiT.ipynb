{
 "cells": [
  {
   "cell_type": "markdown",
   "metadata": {},
   "source": [
    "# Norm"
   ]
  },
  {
   "cell_type": "code",
   "execution_count": 7,
   "metadata": {},
   "outputs": [
    {
     "name": "stdout",
     "output_type": "stream",
     "text": [
      "BatchNorm 输出（第一个通道）:\n",
      " tensor([[-1.0000, -1.0000, -1.0000],\n",
      "        [-1.0000, -1.0000, -1.0000],\n",
      "        [-1.0000, -1.0000, -1.0000]])\n",
      "LayerNorm 输出（第一个样本的均值）: -8.278422569674149e-08\n",
      "InstanceNorm 输出（第一个样本的第一个通道）:\n",
      " tensor([[0., 0., 0.],\n",
      "        [0., 0., 0.],\n",
      "        [0., 0., 0.]])\n",
      "GroupNorm 输出（第一个样本的组0）:\n",
      " tensor([[[-1.0000, -1.0000, -1.0000],\n",
      "         [-1.0000, -1.0000, -1.0000],\n",
      "         [-1.0000, -1.0000, -1.0000]],\n",
      "\n",
      "        [[ 1.0000,  1.0000,  1.0000],\n",
      "         [ 1.0000,  1.0000,  1.0000],\n",
      "         [ 1.0000,  1.0000,  1.0000]]])\n"
     ]
    }
   ],
   "source": [
    "import torch\n",
    "import torch.nn as nn\n",
    "\n",
    "# 输入形状：(N, C, H, W) = (2, 6, 3, 3)\n",
    "x = torch.tensor([[[[1.]*3]*3, [[2.]*3]*3, [[3.]*3]*3, [[4.]*3]*3, [[5.]*3]*3, [[6.]*3]*3],\n",
    "                  [[[11.]*3]*3, [[12.]*3]*3, [[13.]*3]*3, [[14.]*3]*3, [[15.]*3]*3, [[16.]*3]*3]])\n",
    "\n",
    "bn = nn.BatchNorm2d(num_features=6, affine=False)\n",
    "y_bn = bn(x)\n",
    "print(\"BatchNorm 输出（第一个通道）:\\n\", y_bn[0, 0])\n",
    "\n",
    "ln = nn.LayerNorm(normalized_shape=(6, 3, 3), elementwise_affine=False)\n",
    "y_ln = ln(x)\n",
    "print(\"LayerNorm 输出（第一个样本的均值）:\", y_ln[0].mean().item())\n",
    "\n",
    "in_norm = nn.InstanceNorm2d(num_features=6, affine=False)\n",
    "y_in = in_norm(x)\n",
    "print(\"InstanceNorm 输出（第一个样本的第一个通道）:\\n\", y_in[0, 0])\n",
    "\n",
    "gn = nn.GroupNorm(num_groups=3, num_channels=6, affine=False)\n",
    "y_gn = gn(x)\n",
    "print(\"GroupNorm 输出（第一个样本的组0）:\\n\", y_gn[0, :2])"
   ]
  },
  {
   "cell_type": "markdown",
   "metadata": {},
   "source": [
    "# DiT"
   ]
  },
  {
   "cell_type": "code",
   "execution_count": 8,
   "metadata": {},
   "outputs": [],
   "source": [
    "import torch\n",
    "import torch.nn as nn\n",
    "import math\n",
    "from timm.models.vision_transformer import Attention, Mlp\n",
    "\n",
    "import warnings\n",
    "warnings.filterwarnings(action=\"ignore\")\n",
    "\n",
    "def modulate(x, shift, scale):\n",
    "    return x * (1 + scale.unsqueeze(1)) + shift.unsqueeze(1)\n",
    "\n",
    "class DitBlock(nn.Module):\n",
    "    def __init__(self, hidden_size, num_heads, mlp_ratio=4.0):\n",
    "        super(DitBlock, self).__init__()\n",
    "        self.norm1 = nn.LayerNorm(hidden_size, elementwise_affine=False, eps=1e-6)\n",
    "        self.attn = Attention(hidden_size, num_heads=num_heads, qkv_bias=True)\n",
    "        self.norm2 = nn.LayerNorm(hidden_size, elementwise_affine=False, eps=1e-6)\n",
    "        mlp_hidden_dim = int(hidden_size * mlp_ratio)\n",
    "        approx_gelu = lambda: nn.GELU(approximate=\"tanh\")\n",
    "        self.mlp = Mlp(in_features=hidden_size, hidden_features=mlp_hidden_dim, act_layer=approx_gelu)\n",
    "        self.adaLN_modulation = nn.Sequential(\n",
    "            nn.SiLU(),\n",
    "            nn.Linear(hidden_size, 6 * hidden_size, bias=True)\n",
    "        )\n",
    "    \n",
    "    def forward(self, x, c):\n",
    "        shift_msa, scale_msa, gate_msa, shift_mlp, scale_mlp, gate_mlp = self.adaLN_modulation(c).chunk(6, dim=1)\n",
    "        x = x + self.attn(modulate(self.norm1(x), shift_msa, scale_msa)) * gate_msa.unsqueeze(1)\n",
    "        x = x + self.mlp(modulate(self.norm2(x), shift_mlp, scale_mlp)) * gate_mlp.unsqueeze(1)\n",
    "        return x\n",
    "\n",
    "\n",
    "class FinalLayer(nn.Module):\n",
    "    def __init__(self, hidden_size, patch_size, out_channels):\n",
    "        super(FinalLayer, self).__init__()\n",
    "        self.norm_final = nn.LayerNorm(hidden_size, elementwise_affine=False, eps=1e-6)\n",
    "        self.linear = nn.Linear(hidden_size, patch_size * patch_size * out_channels, bias=True)\n",
    "        self.adaLN_modulation = nn.Sequential(\n",
    "            nn.SiLU(),\n",
    "            nn.Linear(hidden_size, 2 * hidden_size, bias=True)\n",
    "        )\n",
    "    \n",
    "    def forward(self, x, c):\n",
    "        shift, scale = self.adaLN_modulation(c).chunk(2, dim=1)\n",
    "        x = self.linear(modulate(self.norm_final(x), shift, scale))\n",
    "        return x\n",
    "\n",
    "    "
   ]
  },
  {
   "cell_type": "code",
   "execution_count": 9,
   "metadata": {},
   "outputs": [
    {
     "name": "stdout",
     "output_type": "stream",
     "text": [
      "DitBlock Output Shape: torch.Size([1, 10, 256])\n",
      "FinalLayer Output Shape: torch.Size([1, 10, 768])\n"
     ]
    }
   ],
   "source": [
    "import torch\n",
    "\n",
    "# 定义测试参数\n",
    "hidden_size = 256\n",
    "num_heads = 8\n",
    "mlp_ratio = 4.0\n",
    "patch_size = 16\n",
    "out_channels = 3\n",
    "\n",
    "# 创建DitBlock实例\n",
    "dit_block = DitBlock(hidden_size, num_heads, mlp_ratio)\n",
    "\n",
    "# 创建FinalLayer实例\n",
    "final_layer = FinalLayer(hidden_size, patch_size, out_channels)\n",
    "\n",
    "# 创建测试输入\n",
    "x = torch.randn(1, 10, hidden_size)  # batch_size=1, sequence_length=10, hidden_size=256\n",
    "c = torch.randn(1, hidden_size)  # batch_size=1, hidden_size=256\n",
    "\n",
    "# 测试DitBlock\n",
    "output_dit_block = dit_block(x, c)\n",
    "print(\"DitBlock Output Shape:\", output_dit_block.shape)\n",
    "\n",
    "# 测试FinalLayer\n",
    "output_final_layer = final_layer(output_dit_block, c)\n",
    "print(\"FinalLayer Output Shape:\", output_final_layer.shape)"
   ]
  }
 ],
 "metadata": {
  "kernelspec": {
   "display_name": "yolov5_frog38",
   "language": "python",
   "name": "python3"
  },
  "language_info": {
   "codemirror_mode": {
    "name": "ipython",
    "version": 3
   },
   "file_extension": ".py",
   "mimetype": "text/x-python",
   "name": "python",
   "nbconvert_exporter": "python",
   "pygments_lexer": "ipython3",
   "version": "3.8.18"
  }
 },
 "nbformat": 4,
 "nbformat_minor": 2
}
