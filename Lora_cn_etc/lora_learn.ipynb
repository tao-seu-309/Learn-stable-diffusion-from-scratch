{
 "cells": [
  {
   "cell_type": "markdown",
   "metadata": {},
   "source": [
    "# Lora"
   ]
  },
  {
   "cell_type": "markdown",
   "metadata": {},
   "source": [
    "![images](/storage/pt/AW_STUDY/SD_all/Lora_cn_etc/images/lora.png)"
   ]
  },
  {
   "cell_type": "code",
   "execution_count": null,
   "metadata": {},
   "outputs": [],
   "source": [
    "import torch\n",
    "import torch.nn as nn\n",
    "import torch.nn.functional as F\n",
    "import math\n",
    "\n",
    "class LinearLoRALayer(nn.Module):\n",
    "    def __init__(self, \n",
    "        in_features, \n",
    "        out_features,\n",
    "        merge=False,\n",
    "        rank=8,\n",
    "        lora_alpha=16,\n",
    "        dropout=0.1,\n",
    "    ):\n",
    "        super().__init__()\n",
    "\n",
    "        self.in_features = in_features\n",
    "        self.out_features = out_features\n",
    "        self.merge = merge\n",
    "        self.rank = rank\n",
    "\n",
    "        # linear weight 的 Shape 是 (out_features, in_features), 正确的做法是 x @ W^T\n",
    "        self.linear = nn.Linear(in_features, out_features)\n",
    "        # 所以 W 的shape是 (out_features, in_features)\n",
    "        # 这里非常的重要，这里是实现的小细节\n",
    "        \n",
    "        if rank > 0:\n",
    "            # 这里是为了标记 lora_a 和 lora_b 是可训练的参数\n",
    "            self.lora_a = nn.Parameter(\n",
    "                torch.zeros(out_features, rank)\n",
    "            )\n",
    "            # lora_a 需要初始化为 高斯分布: \n",
    "            # 在调用凯明初始化的时候注释里写的高斯分布，调用的却是均匀分布，而且参数a的值设置的是根号5，\n",
    "            # 但a表示的是leaky relu的负斜率系数，一般是0.01这样的小值，不可能超过1\n",
    "            nn.init.kaiming_normal_(self.lora_a, a=0.01)\n",
    "\n",
    "            self.lora_b = nn.Parameter(\n",
    "                torch.zeros(rank, in_features)\n",
    "            )\n",
    "            self.scale = lora_alpha / rank\n",
    "\n",
    "            # linear 需要设置为不可以训练\n",
    "            self.linear.weight.requires_grad = False\n",
    "        \n",
    "        self.dropout = nn.Dropout(\n",
    "            dropout\n",
    "        ) if dropout > 0 else nn.Identity()\n",
    "\n",
    "        # 如果采用 merge 进行推理，\n",
    "        # 那么会把 lora_a 和 lora_b 两个小矩阵的参数直接放到 linear.weight 中\n",
    "        if merge:\n",
    "            self.merge_weight()\n",
    "\n",
    "    def forward(self, X):\n",
    "        # X shape is (batch, seq_len, in_feature)\n",
    "        # lora_a 是 out_features * rank\n",
    "        if self.rank > 0 and not self.merge:\n",
    "            output = self.linear(X) + self.scale * ( X @ (self.lora_a @ self.lora_b).T )\n",
    "        elif self.rank > 0 and self.merge:\n",
    "            output = self.linear(X)\n",
    "        else:\n",
    "            output = self.linear(X)\n",
    "        \n",
    "        return self.dropout(output)\n",
    "\n",
    "    def merge_weight(self, ):\n",
    "        if self.merge and self.rank > 0:\n",
    "            self.linear.weight.data += self.scale * (self.lora_a @ self.lora_b)\n",
    "    \n",
    "    def unmerge_weight(self, ):\n",
    "        if self.rank > 0:\n",
    "            self.linear.weight.data -= self.scale * (self.lora_a @ self.lora_b)"
   ]
  },
  {
   "cell_type": "markdown",
   "metadata": {},
   "source": [
    "![images](/storage/pt/AW_STUDY/SD_all/Lora_cn_etc/images/alpha.png)"
   ]
  },
  {
   "cell_type": "code",
   "execution_count": 8,
   "metadata": {},
   "outputs": [
    {
     "name": "stdout",
     "output_type": "stream",
     "text": [
      "Output shape (no merge): torch.Size([32, 128, 512])\n",
      "Output shape (merged): torch.Size([32, 128, 512])\n",
      "Max difference after merge/unmerge cycle: 2.938972234725952\n"
     ]
    }
   ],
   "source": [
    "# 写一段测试代码\n",
    "# Test the LoRALinear layer\n",
    "batch_size = 32\n",
    "seq_len = 128\n",
    "in_features = 768\n",
    "out_features = 512\n",
    "rank = 8\n",
    "lora_alpha = 16\n",
    "dropout = 0.1\n",
    "\n",
    "# Create a test input\n",
    "x = torch.randn(batch_size, seq_len, in_features)\n",
    "\n",
    "# Test regular mode (no merge)\n",
    "lora_layer = LinearLoRALayer(\n",
    "    in_features=in_features,\n",
    "    out_features=out_features,\n",
    "    rank=rank,\n",
    "    lora_alpha=lora_alpha,\n",
    "    dropout=dropout,\n",
    "    merge=False\n",
    ")\n",
    "\n",
    "# Forward pass\n",
    "output = lora_layer(x)\n",
    "print(f\"Output shape (no merge): {output.shape}\")  # Should be [batch_size, seq_len, out_features]\n",
    "\n",
    "# Test merged mode\n",
    "lora_layer_merged = LinearLoRALayer(\n",
    "    in_features=in_features,\n",
    "    out_features=out_features,\n",
    "    rank=rank,\n",
    "    lora_alpha=lora_alpha,\n",
    "    dropout=dropout,\n",
    "    merge=True\n",
    ")\n",
    "\n",
    "# Forward pass with merged weights\n",
    "output_merged = lora_layer_merged(x)\n",
    "print(f\"Output shape (merged): {output_merged.shape}\")  # Should be [batch_size, seq_len, out_features]\n",
    "\n",
    "# Test weight merging/unmerging\n",
    "lora_layer.merge_weight()\n",
    "output_after_merge = lora_layer(x)\n",
    "lora_layer.unmerge_weight()\n",
    "output_after_unmerge = lora_layer(x)\n",
    "\n",
    "print(\"Max difference after merge/unmerge cycle:\", \n",
    "      torch.max(torch.abs(output - output_after_unmerge)).item())"
   ]
  }
 ],
 "metadata": {
  "kernelspec": {
   "display_name": "yolov5_frog38",
   "language": "python",
   "name": "python3"
  },
  "language_info": {
   "codemirror_mode": {
    "name": "ipython",
    "version": 3
   },
   "file_extension": ".py",
   "mimetype": "text/x-python",
   "name": "python",
   "nbconvert_exporter": "python",
   "pygments_lexer": "ipython3",
   "version": "3.8.18"
  }
 },
 "nbformat": 4,
 "nbformat_minor": 2
}
